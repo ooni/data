{
 "cells": [
  {
   "cell_type": "code",
   "execution_count": 2,
   "id": "bc83eb2c-32c1-4d5a-9e4f-9e0e0378c8a6",
   "metadata": {},
   "outputs": [
    {
     "data": {
      "application/vnd.jupyter.widget-view+json": {
       "model_id": "660a13e6881c4d69b018e42528d36b35",
       "version_major": 2,
       "version_minor": 0
      },
      "text/plain": [
       "Box(children=(FloatSlider(value=0.2, continuous_update=False, description='answer_is_bogon', max=1.0, step=0.0…"
      ]
     },
     "metadata": {},
     "output_type": "display_data"
    }
   ],
   "source": [
    "import ipywidgets as widgets\n",
    "from ipywidgets import VBox, Box, Layout\n",
    "from IPython.display import display\n",
    "\n",
    "slider_map = {}\n",
    "\n",
    "values = [\n",
    "\"answer_is_bogon\", \n",
    "\"answer_matches_probe_asn\", \n",
    "\"answer_matches_probe_cc\",\n",
    "\"answer_is_cloud_provider\",\n",
    "\"answer_other\"\n",
    "]\n",
    "\n",
    "class Changer:\n",
    "    change_in_progress = False\n",
    "    \n",
    "    def callback(self, value):\n",
    "        if self.change_in_progress:\n",
    "            return\n",
    "        self.change_in_progress = True\n",
    "        changed_slider = value['owner'].description\n",
    "        other_slider_sum = 0\n",
    "        for k, s in slider_map.items():\n",
    "            if k == changed_slider:\n",
    "                continue\n",
    "            other_slider_sum += s.value\n",
    "        new_other_slider_sum = 1 - value['new']\n",
    "        mult_factor = new_other_slider_sum/other_slider_sum\n",
    "        for k, s in slider_map.items():\n",
    "            if k == changed_slider:\n",
    "                continue\n",
    "            s.value = mult_factor * s.value\n",
    "        self.change_in_progress = False\n",
    "    \n",
    "changer = Changer()\n",
    "slider_values = {v: 1.0/len(values) for v in values}\n",
    "\n",
    "for v in values:\n",
    "    slider = widgets.FloatSlider(\n",
    "        value=1/len(values), \n",
    "        min=0.0,\n",
    "        max=1.0,\n",
    "        description=v,\n",
    "        step=0.001,\n",
    "        continuous_update=False\n",
    "    )\n",
    "    slider.observe(changer.callback, names='value')\n",
    "    slider_map[v] = slider\n",
    "\n",
    "display(\n",
    "    Box(children=list(slider_map.values()), layout=Layout(display='flex', flex_flow='column', align_items='stretch'))\n",
    ")"
   ]
  },
  {
   "cell_type": "code",
   "execution_count": 3,
   "id": "97cc09d2-c71b-49a5-9a1c-3f6ace5e6b1f",
   "metadata": {},
   "outputs": [],
   "source": [
    "def validate_matrix(matrix):\n",
    "    cols = len(matrix[0])\n",
    "    rows = len(matrix)\n",
    "    valid = True\n",
    "    for col_idx in range(cols):\n",
    "        col_data = []\n",
    "        for row_idx in range(rows):\n",
    "            col_data.append(matrix[row_idx][col_idx])\n",
    "        if sum(col_data) != 1:\n",
    "            print(f\"col #{col_idx} INVALID ({sum(col_data)}!=1)\")\n",
    "            print(col_data)\n",
    "            valid = False\n",
    "    if valid:\n",
    "        print(\"ALL OK\")"
   ]
  },
  {
   "cell_type": "code",
   "execution_count": 10,
   "id": "fee25b03-eec8-4db4-9021-ce92eee94dbf",
   "metadata": {},
   "outputs": [
    {
     "name": "stdout",
     "output_type": "stream",
     "text": [
      "ALL OK\n"
     ]
    }
   ],
   "source": [
    "validate_matrix([\n",
    "        # consistent inconsistent\n",
    "        # \"none\", \"bad_certificate\", \"connection_reset_after_ch\", \"timeout_after_ch\", \"timeout\" \"connection_reset\" \"other\" \"down\"\n",
    "        [0.02, 0.95, 0.90, 0.85, 0.55, 0.65, 0.07, 0.07, 0.02, 0.02, 0.02, 0.02, 0.02, 0.02, 0.02, 0.02], # blocked\n",
    "        [0.95, 0.01, 0.01, 0.01, 0.02, 0.01, 0.01, 0.01, 0.01, 0.01, 0.01, 0.01, 0.01, 0.01, 0.01, 0.01], # ok\n",
    "        [0.02, 0.03, 0.07, 0.09, 0.40, 0.25, 0.07, 0.07, 0.05, 0.05, 0.05, 0.05, 0.05, 0.05, 0.05, 0.05], # down\n",
    "        [0.01, 0.01, 0.02, 0.05, 0.03, 0.09, 0.85, 0.85, 0.92, 0.92, 0.92, 0.92, 0.92, 0.92, 0.92, 0.92], # unknown\n",
    "    ])"
   ]
  },
  {
   "cell_type": "code",
   "execution_count": null,
   "id": "1f8a25ac-80fe-4124-af4e-d5455faf71d2",
   "metadata": {},
   "outputs": [],
   "source": []
  }
 ],
 "metadata": {
  "kernelspec": {
   "display_name": "Python 3 (ipykernel)",
   "language": "python",
   "name": "python3"
  },
  "language_info": {
   "codemirror_mode": {
    "name": "ipython",
    "version": 3
   },
   "file_extension": ".py",
   "mimetype": "text/x-python",
   "name": "python",
   "nbconvert_exporter": "python",
   "pygments_lexer": "ipython3",
   "version": "3.12.5"
  }
 },
 "nbformat": 4,
 "nbformat_minor": 5
}
