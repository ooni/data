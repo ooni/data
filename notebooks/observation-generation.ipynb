{
 "cells": [
  {
   "cell_type": "code",
   "execution_count": 1,
   "id": "72ab45b0-2c46-4afa-ac2f-64e868ff19d2",
   "metadata": {},
   "outputs": [],
   "source": [
    "import pandas as pd\n",
    "from tqdm import tqdm "
   ]
  },
  {
   "cell_type": "code",
   "execution_count": 2,
   "id": "ec1358fb-cc19-423d-8078-6569e4928787",
   "metadata": {},
   "outputs": [
    {
     "name": "stderr",
     "output_type": "stream",
     "text": [
      "/Users/art/Library/Caches/pypoetry/virtualenvs/oonidata-zRAzTLf2-py3.11/lib/python3.11/site-packages/tqdm/auto.py:22: TqdmWarning: IProgress not found. Please update jupyter and ipywidgets. See https://ipywidgets.readthedocs.io/en/stable/user_install.html\n",
      "  from .autonotebook import tqdm as notebook_tqdm\n"
     ]
    }
   ],
   "source": [
    "from oonidata.dataclient import list_file_entries_batches"
   ]
  },
  {
   "cell_type": "code",
   "execution_count": 3,
   "id": "ce605592-3647-4ddf-978b-c66d3ab31d53",
   "metadata": {},
   "outputs": [],
   "source": [
    "batches_2023 = list_file_entries_batches(\n",
    "    probe_cc=[], test_name=[], start_day='2023-03-05', end_day='2023-03-06'\n",
    ")"
   ]
  },
  {
   "cell_type": "code",
   "execution_count": 4,
   "id": "d87c8f38-2ae2-4f40-bb1b-8214986f69a7",
   "metadata": {},
   "outputs": [],
   "source": [
    "batches_2022 = list_file_entries_batches(\n",
    "    probe_cc=[], test_name=[], start_day='2022-03-05', end_day='2022-03-06'\n",
    ")"
   ]
  },
  {
   "cell_type": "code",
   "execution_count": 5,
   "id": "bae49016-9969-44b3-a218-3710b539c1e6",
   "metadata": {},
   "outputs": [],
   "source": [
    "size_2023 = batches_2023[1]"
   ]
  },
  {
   "cell_type": "code",
   "execution_count": 6,
   "id": "e3f31b15-1029-4d80-a9d7-4020591e1ed5",
   "metadata": {},
   "outputs": [],
   "source": [
    "size_2022 = batches_2022[1]"
   ]
  },
  {
   "cell_type": "code",
   "execution_count": 7,
   "id": "2781e7d4-97e6-426d-aaf9-56073d0de445",
   "metadata": {},
   "outputs": [
    {
     "name": "stdout",
     "output_type": "stream",
     "text": [
      "2023 size: 25.8GB\n"
     ]
    }
   ],
   "source": [
    "print(f\"2023 size: {round(size_2023/10**9, 2)}GB\")"
   ]
  },
  {
   "cell_type": "code",
   "execution_count": 8,
   "id": "95838ce3-5c23-4efe-b2d2-e14a45257c59",
   "metadata": {},
   "outputs": [
    {
     "name": "stdout",
     "output_type": "stream",
     "text": [
      "2022 size: 118.21GB\n"
     ]
    }
   ],
   "source": [
    "print(f\"2022 size: {round(size_2022/10**9, 2)}GB\")"
   ]
  },
  {
   "cell_type": "code",
   "execution_count": 9,
   "id": "6f15397d-2fff-484b-96ce-7174b278cd96",
   "metadata": {},
   "outputs": [
    {
     "data": {
      "text/plain": [
       "21692"
      ]
     },
     "execution_count": 9,
     "metadata": {},
     "output_type": "execute_result"
    }
   ],
   "source": [
    "from itertools import chain\n",
    "files_2023 = list(chain.from_iterable(batches_2023[0]))\n",
    "len(files_2023)"
   ]
  },
  {
   "cell_type": "code",
   "execution_count": 10,
   "id": "97f76db1-1c8b-4da3-b13a-cfc93e931ab5",
   "metadata": {},
   "outputs": [
    {
     "data": {
      "text/plain": [
       "21425"
      ]
     },
     "execution_count": 10,
     "metadata": {},
     "output_type": "execute_result"
    }
   ],
   "source": [
    "from itertools import chain\n",
    "files_2022 = list(chain.from_iterable(batches_2022[0]))\n",
    "len(files_2022)"
   ]
  },
  {
   "cell_type": "code",
   "execution_count": 11,
   "id": "ebce59c6-19b2-4fa0-bb66-488d49aad974",
   "metadata": {},
   "outputs": [],
   "source": [
    "df_2023 = pd.DataFrame(files_2023, columns=['bucket', 'path', 'ext', 'size'])"
   ]
  },
  {
   "cell_type": "code",
   "execution_count": 12,
   "id": "447eb0ec-9273-42aa-afd0-54d700739a5d",
   "metadata": {},
   "outputs": [],
   "source": [
    "df_2022 = pd.DataFrame(files_2022, columns=['bucket', 'path', 'ext', 'size'])"
   ]
  },
  {
   "cell_type": "code",
   "execution_count": 13,
   "id": "4410e9d3-97a0-4ca5-9617-4216c74c3f0a",
   "metadata": {},
   "outputs": [
    {
     "data": {
      "text/plain": [
       "1189216.4224598932"
      ]
     },
     "execution_count": 13,
     "metadata": {},
     "output_type": "execute_result"
    }
   ],
   "source": [
    "df_2023['size'].mean()"
   ]
  },
  {
   "cell_type": "code",
   "execution_count": 14,
   "id": "fb43ac83-806f-4997-b409-dad941399e75",
   "metadata": {},
   "outputs": [
    {
     "data": {
      "text/plain": [
       "5517357.404900817"
      ]
     },
     "execution_count": 14,
     "metadata": {},
     "output_type": "execute_result"
    }
   ],
   "source": [
    "df_2022['size'].mean()"
   ]
  },
  {
   "cell_type": "code",
   "execution_count": 15,
   "id": "69995972-c6f7-4140-9547-4b33e3f068e7",
   "metadata": {},
   "outputs": [
    {
     "data": {
      "text/plain": [
       "4.63949105965611"
      ]
     },
     "execution_count": 15,
     "metadata": {},
     "output_type": "execute_result"
    }
   ],
   "source": [
    "5517357/1189216"
   ]
  },
  {
   "cell_type": "code",
   "execution_count": 17,
   "id": "87b49029-e2b4-4ea0-9810-af044ccfca5b",
   "metadata": {},
   "outputs": [
    {
     "data": {
      "text/plain": [
       "'raw/20230305/23/ZW/webconnectivity/2023030523_ZW_webconnectivity.n1.0.tar.gz'"
      ]
     },
     "execution_count": 17,
     "metadata": {},
     "output_type": "execute_result"
    }
   ],
   "source": [
    "df_2023.iloc[0]['path']"
   ]
  },
  {
   "cell_type": "code",
   "execution_count": null,
   "id": "9e6c4b17-8263-41e6-b73d-962379f0decf",
   "metadata": {},
   "outputs": [],
   "source": []
  }
 ],
 "metadata": {
  "kernelspec": {
   "display_name": "Python 3 (ipykernel)",
   "language": "python",
   "name": "python3"
  },
  "language_info": {
   "codemirror_mode": {
    "name": "ipython",
    "version": 3
   },
   "file_extension": ".py",
   "mimetype": "text/x-python",
   "name": "python",
   "nbconvert_exporter": "python",
   "pygments_lexer": "ipython3",
   "version": "3.11.2"
  }
 },
 "nbformat": 4,
 "nbformat_minor": 5
}
