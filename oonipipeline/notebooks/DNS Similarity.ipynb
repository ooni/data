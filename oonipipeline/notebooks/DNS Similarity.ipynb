{
 "cells": [
  {
   "cell_type": "code",
   "execution_count": 1,
   "id": "f309af11-65e3-4d73-88de-655921a52693",
   "metadata": {},
   "outputs": [
    {
     "name": "stderr",
     "output_type": "stream",
     "text": [
      "/Users/art/repos/ooni/data/oonipipeline/.venv/lib/python3.11/site-packages/tqdm/auto.py:21: TqdmWarning: IProgress not found. Please update jupyter and ipywidgets. See https://ipywidgets.readthedocs.io/en/stable/user_install.html\n",
      "  from .autonotebook import tqdm as notebook_tqdm\n"
     ]
    }
   ],
   "source": [
    "import pandas as pd\n",
    "from IPython.display import Image\n",
    "from pgmpy.models import BayesianNetwork\n",
    "from pgmpy.factors.discrete import TabularCPD"
   ]
  },
  {
   "cell_type": "code",
   "execution_count": 2,
   "id": "3f8fc6f9-9786-4013-8802-359432fb01a2",
   "metadata": {},
   "outputs": [],
   "source": [
    "sample_uids = [\n",
    " '20240101113125.808243_BG_webconnectivity_ba4cf234d47b73ec',\n",
    " '20240220050354.524776_US_webconnectivity_a690552818804fc3',\n",
    " '20240224232654.007984_RU_webconnectivity_9164a3df2d35316c',\n",
    " '20240226225131.261075_VE_webconnectivity_a3e31c999fc8b161',\n",
    " '20240226225231.612531_VE_webconnectivity_47d3561e542337d8',\n",
    " '20240226225245.422977_VE_webconnectivity_37dcdd51581cbd13',\n",
    " '20240227160142.829208_US_webconnectivity_2c9b945991901f8d',\n",
    " '20240311005741.675686_SE_webconnectivity_2a4a84928bd17ab0',\n",
    " '20240316062349.575036_US_webconnectivity_b63efd0ed694e005',\n",
    " '20240328194436.111684_TR_webconnectivity_5414b98b9c9f873b',\n",
    " '20240409035157.511121_BR_webconnectivity_85b1de4e410314f7',\n",
    " '20240410115514.842786_BR_webconnectivity_6d224ea8b6b3ca7c',\n",
    " '20240410124541.400148_BR_webconnectivity_ac16eb05475f622a',\n",
    " '20240410134516.191956_BR_webconnectivity_a947a71df23203f3',\n",
    " '20240410135012.070725_BR_webconnectivity_d3e9bce608599d5e',\n",
    " '20240413230148.929136_KH_webconnectivity_33ae9436d7b6779c',\n",
    " '20240415141511.755790_BR_webconnectivity_07547042a9307621',\n",
    " '20240416214307.425888_BR_webconnectivity_c9d912510d61bc0b',\n",
    " '20240418071953.744226_BR_webconnectivity_2c6b65eeff39f34f',\n",
    " '20240506163355.336279_VN_webconnectivity_8de9ce661982414d',\n",
    " '20240508114544.444840_BR_webconnectivity_379718729eeed45b',\n",
    " '20240514091759.626287_NL_webconnectivity_38962f675df0f676',\n",
    " '20240519182127.049517_US_webconnectivity_6e12ec842e98674a',\n",
    " '20240522113817.495473_NL_webconnectivity_e81ed947814f9d2a',\n",
    " '20240524142956.125292_JO_webconnectivity_5cd31e0f03494bd2',\n",
    " '20240627074955.407639_RU_webconnectivity_99e23c2b9680c1cb',\n",
    " '20240704234509.514733_NL_webconnectivity_6f924d2e43209ae1',\n",
    " '20240705015016.667807_AE_webconnectivity_392604bce72a44d5',\n",
    " '20240722041303.591874_MM_webconnectivity_98e6671dd7dce61a',\n",
    " '20240722041334.778473_MM_webconnectivity_93a628687303be86',\n",
    " '20240722042950.433988_MM_webconnectivity_d388cdc8bad1f15c',\n",
    " '20240728114019.011456_VE_webconnectivity_1f0ba3819685e272',\n",
    " '20240810175938.750056_VE_webconnectivity_016721e1ebfdc2ed',\n",
    " '20240810182504.634031_VE_webconnectivity_853b19341a35d2f0',\n",
    " '20240810182604.928599_VE_webconnectivity_f42bd5020088c498',\n",
    " '20240815043926.030750_VE_webconnectivity_f034e025b6db08ea',\n",
    " '20240815092817.050941_DE_webconnectivity_661003d3498d802f',\n",
    " '20240815172949.387668_VE_webconnectivity_427addcd5d1ea806',\n",
    " '20240818234433.791006_VE_webconnectivity_8fac03865551a8eb',\n",
    " '20240820163242.249906_JO_webconnectivity_a826f460299fa996']"
   ]
  },
  {
   "cell_type": "code",
   "execution_count": 3,
   "id": "f67d57d4-9472-47c7-94a7-03eb97c8c4f9",
   "metadata": {},
   "outputs": [],
   "source": [
    "from pathlib import Path\n",
    "from oonidata.dataclient import load_measurement\n",
    "from oonidata.apiclient import get_measurement_dict_by_uid\n",
    "\n",
    "from oonipipeline.netinfo import NetinfoDB\n",
    "from oonipipeline.transforms.observations import measurement_to_observations"
   ]
  },
  {
   "cell_type": "code",
   "execution_count": 82,
   "id": "6e0703ab-7419-4d43-ad95-03d226b74004",
   "metadata": {},
   "outputs": [],
   "source": [
    "netinfodb = NetinfoDB(datadir=Path(\"datadir\"), download=False)\n",
    "# 20231129041111.939896_NP_webconnectivity_32105af63774eabf\n",
    "#raw_msmt = get_measurement_dict_by_uid(\"20240804233508.181041_TR_webconnectivity_9a7272e520f3d836\")\n",
    "def make_obs_ctrl(measurement_uid):\n",
    "    raw_msmt = get_measurement_dict_by_uid(measurement_uid)\n",
    "    msmt = load_measurement(msmt=raw_msmt)\n",
    "    web_observations, web_control_observations = measurement_to_observations(\n",
    "        msmt, netinfodb=netinfodb\n",
    "    )\n",
    "    return web_observations, web_control_observations"
   ]
  },
  {
   "cell_type": "code",
   "execution_count": 79,
   "id": "4b02005e-aa58-4ab9-ab2d-79f6b4de1bff",
   "metadata": {},
   "outputs": [],
   "source": [
    "from collections import Counter\n",
    "def most_frequent(asns):\n",
    "    if not asns:\n",
    "        return 0\n",
    "    count = Counter(asns)\n",
    "    most_common = count.most_common(1)\n",
    "    return most_common[0][0]\n",
    "\n",
    "CLOUD_PROVIDERS_ASNS = [\n",
    "    13335,  # Cloudflare: https://www.peeringdb.com/net/4224\n",
    "    209242, #\tCloudflare London, LLC\t\n",
    "    20940,  # Akamai: https://www.peeringdb.com/net/2\n",
    "    9002,  # Akamai RETN\n",
    "    16625, # Akamai Technologies, Inc.\t\n",
    "    63949, # Akamai Technologies, Inc.\t\n",
    "    16509, #\tAmazon.com, Inc.\n",
    "    14618, #\tAmazon.com, Inc.\t\n",
    "    15169, #\tGoogle LLC\n",
    "    396982,  # Google Cloud: https://www.peeringdb.com/net/30878\n",
    "    54113, #\tFastly, Inc\n",
    "    8075, # Microsoft Corporation\n",
    "    8068, #\tMicrosoft Corporation\n",
    "]\n",
    "def is_cloud_provider(as_number):\n",
    "    return as_number in CLOUD_PROVIDERS_ASNS\n",
    "\n",
    "def dns_feature_vector(dns_answers, w_ctrl):\n",
    "    ctrl_map = {}\n",
    "    for ctrl in w_ctrl:\n",
    "        ctrl_map[ctrl.ip] = ctrl\n",
    "\n",
    "    unreachable_count = 0\n",
    "    for answer in dns_answers:\n",
    "        if ctrl_map.get(answer.ip):\n",
    "            if ctrl_map[answer.ip].tcp_success == False:\n",
    "                unreachable_count += 1\n",
    "    dns_answer_vector = {\n",
    "        \"answer_count\": len(dns_answers),\n",
    "        \"answer_cloud_provider\": 1 if any([is_cloud_provider(x.ip_asn) for x in dns_answers]) else 0,\n",
    "        \"unreachable_answer_count\": unreachable_count,\n",
    "        \"top_answer_asn\": most_frequent(map(lambda x: x.ip_asn, dns_answers))\n",
    "    }\n",
    "    return dns_answer_vector"
   ]
  },
  {
   "cell_type": "code",
   "execution_count": null,
   "id": "95eebdc8-959b-4378-936e-da93fd532d6e",
   "metadata": {},
   "outputs": [],
   "source": [
    "obs, ctrl = make_obs_ctrl(\"20240316062349.575036_US_webconnectivity_b63efd0ed694e005\")"
   ]
  },
  {
   "cell_type": "code",
   "execution_count": 86,
   "id": "817d57dd-4b58-46f7-8c07-d3cdaa15bcb0",
   "metadata": {},
   "outputs": [],
   "source": [
    "from pprint import pprint\n",
    "#pprint(obs[0])"
   ]
  },
  {
   "cell_type": "code",
   "execution_count": 80,
   "id": "7c3f0650-e34c-4fc2-9706-8439f8223400",
   "metadata": {},
   "outputs": [],
   "source": [
    "from scipy.spatial import distance\n",
    "netinfodb = NetinfoDB(datadir=Path(\"datadir\"), download=False)\n",
    "def compute_dns_distance(measurement_uid):\n",
    "    web_observations, web_control_observations = make_obs_ctrl(measurement_uid)\n",
    "    exp_dns_answers = list(filter(lambda x: x.dns_answer is not None, web_observations))\n",
    "    if len(exp_dns_answers) == 0:\n",
    "        return None\n",
    "    exp_vector = list(dns_feature_vector(web_observations, web_control_observations).values())\n",
    "    ctrl_dns_answers = list(filter(lambda x: x.dns_failure is not None or x.dns_success is True, web_control_observations))\n",
    "    ctrl_vector = list(dns_feature_vector(\n",
    "        ctrl_dns_answers,\n",
    "        web_control_observations\n",
    "    ).values())\n",
    "    try:\n",
    "        d = distance.cosine(exp_vector, ctrl_vector)\n",
    "        return d\n",
    "    except:\n",
    "        print(exp_vector, ctrl_vector)\n",
    "        return None"
   ]
  },
  {
   "cell_type": "code",
   "execution_count": 81,
   "id": "f139f2ea-b491-46aa-b75f-1acc3f7b6169",
   "metadata": {},
   "outputs": [
    {
     "name": "stdout",
     "output_type": "stream",
     "text": [
      "20240101113125.808243_BG_webconnectivity_ba4cf234d47b73ec\n",
      "2.511132244364944e-07\n",
      "20240220050354.524776_US_webconnectivity_a690552818804fc3\n",
      "2.0243516862805677e-09\n",
      "20240224232654.007984_RU_webconnectivity_9164a3df2d35316c\n",
      "2.811796573354286e-09\n",
      "20240226225131.261075_VE_webconnectivity_a3e31c999fc8b161\n",
      "5.679824388593602e-10\n",
      "20240226225231.612531_VE_webconnectivity_47d3561e542337d8\n",
      "2.811796573354286e-09\n",
      "20240226225245.422977_VE_webconnectivity_37dcdd51581cbd13\n",
      "1.1247181741502743e-08\n",
      "20240227160142.829208_US_webconnectivity_2c9b945991901f8d\n",
      "None\n",
      "20240311005741.675686_SE_webconnectivity_2a4a84928bd17ab0\n",
      "1.834545071410787e-09\n",
      "20240316062349.575036_US_webconnectivity_b63efd0ed694e005\n",
      "[3, 0, 0, None] [2, 0, 0, 60781]\n",
      "None\n",
      "20240328194436.111684_TR_webconnectivity_5414b98b9c9f873b\n",
      "1.3396325160286437e-09\n",
      "20240409035157.511121_BR_webconnectivity_85b1de4e410314f7\n",
      "0.0\n",
      "20240410115514.842786_BR_webconnectivity_6d224ea8b6b3ca7c\n",
      "2.8117966843765885e-09\n",
      "20240410124541.400148_BR_webconnectivity_ac16eb05475f622a\n",
      "1.2861659182128449e-08\n",
      "20240410134516.191956_BR_webconnectivity_a947a71df23203f3\n",
      "0.0\n",
      "20240410135012.070725_BR_webconnectivity_d3e9bce608599d5e\n",
      "7.02948984576679e-08\n",
      "20240413230148.929136_KH_webconnectivity_33ae9436d7b6779c\n",
      "None\n",
      "20240415141511.755790_BR_webconnectivity_07547042a9307621\n",
      "2.811796573354286e-09\n",
      "20240416214307.425888_BR_webconnectivity_c9d912510d61bc0b\n",
      "[3, 0, 0, None] [4, 0, 0, 40428]\n",
      "None\n",
      "20240418071953.744226_BR_webconnectivity_2c6b65eeff39f34f\n",
      "0.0\n",
      "20240506163355.336279_VN_webconnectivity_8de9ce661982414d\n",
      "4.189776303675785e-10\n",
      "20240508114544.444840_BR_webconnectivity_379718729eeed45b\n",
      "3.71212472660698e-06\n",
      "20240514091759.626287_NL_webconnectivity_38962f675df0f676\n",
      "1.8090338116394378e-09\n",
      "20240519182127.049517_US_webconnectivity_6e12ec842e98674a\n",
      "2.7760629350837007e-09\n",
      "20240522113817.495473_NL_webconnectivity_e81ed947814f9d2a\n",
      "None\n",
      "20240524142956.125292_JO_webconnectivity_5cd31e0f03494bd2\n",
      "6.872500064591947e-07\n",
      "20240627074955.407639_RU_webconnectivity_99e23c2b9680c1cb\n",
      "1.8345449603884845e-09\n",
      "20240704234509.514733_NL_webconnectivity_6f924d2e43209ae1\n",
      "4.6097892170138266e-10\n",
      "20240705015016.667807_AE_webconnectivity_392604bce72a44d5\n",
      "[5, 1, 0, None] [2, 1, 0, 16509]\n",
      "None\n",
      "20240722041303.591874_MM_webconnectivity_98e6671dd7dce61a\n",
      "4.6097892170138266e-10\n",
      "20240722041334.778473_MM_webconnectivity_93a628687303be86\n",
      "4.6097892170138266e-10\n",
      "20240722042950.433988_MM_webconnectivity_d388cdc8bad1f15c\n",
      "2.7787750989105575e-09\n",
      "20240728114019.011456_VE_webconnectivity_1f0ba3819685e272\n",
      "2.2500359353472277e-09\n",
      "20240810175938.750056_VE_webconnectivity_016721e1ebfdc2ed\n",
      "1.1115099285419205e-08\n",
      "20240810182504.634031_VE_webconnectivity_853b19341a35d2f0\n",
      "7.668048529474447e-09\n",
      "20240810182604.928599_VE_webconnectivity_f42bd5020088c498\n",
      "[3, 1, 0, None] [16, 1, 0, 54113]\n",
      "None\n",
      "20240815043926.030750_VE_webconnectivity_f034e025b6db08ea\n",
      "2.7787750989105575e-09\n",
      "20240815092817.050941_DE_webconnectivity_661003d3498d802f\n",
      "None\n",
      "20240815172949.387668_VE_webconnectivity_427addcd5d1ea806\n",
      "2.7787750989105575e-09\n",
      "20240818234433.791006_VE_webconnectivity_8fac03865551a8eb\n",
      "1.8345454044776943e-09\n",
      "20240820163242.249906_JO_webconnectivity_a826f460299fa996\n",
      "1.004488997979891e-06\n"
     ]
    }
   ],
   "source": [
    "distance_map = {\n",
    "}\n",
    "for uid in sample_uids:\n",
    "    print(uid)\n",
    "    d = compute_dns_distance(uid)\n",
    "    print(d)\n",
    "    distance_map[uid] = d"
   ]
  },
  {
   "cell_type": "code",
   "execution_count": 88,
   "id": "6a0480af-d3c1-4c58-a8ac-4631487ee48f",
   "metadata": {},
   "outputs": [
    {
     "data": {
      "text/plain": [
       "3.9001535001581544e-08"
      ]
     },
     "execution_count": 88,
     "metadata": {},
     "output_type": "execute_result"
    }
   ],
   "source": [
    "compute_dns_distance(\"20240729235930.015020_IR_webconnectivity_eda3016ef01b4d3b\")"
   ]
  },
  {
   "cell_type": "code",
   "execution_count": 54,
   "id": "b739753b-d515-4903-8a1d-a7725604131a",
   "metadata": {},
   "outputs": [],
   "source": []
  },
  {
   "cell_type": "code",
   "execution_count": 55,
   "id": "5482a37f-2532-494d-9e15-e3e40dea854b",
   "metadata": {},
   "outputs": [],
   "source": []
  },
  {
   "cell_type": "code",
   "execution_count": null,
   "id": "c6b1e906-58fa-4ba2-9e35-b76e9c64e4fc",
   "metadata": {},
   "outputs": [],
   "source": []
  },
  {
   "cell_type": "code",
   "execution_count": null,
   "id": "3bdc153b-19df-4434-983a-30e7a8e22cd4",
   "metadata": {},
   "outputs": [],
   "source": []
  },
  {
   "cell_type": "code",
   "execution_count": null,
   "id": "ea33f35b-a596-4818-ad61-ee0730fe8e24",
   "metadata": {},
   "outputs": [],
   "source": []
  },
  {
   "cell_type": "code",
   "execution_count": null,
   "id": "fd1ffe75-dcba-4b67-b7fe-c839fb5030ff",
   "metadata": {},
   "outputs": [],
   "source": []
  },
  {
   "cell_type": "code",
   "execution_count": null,
   "id": "07310d97-6023-47e9-bca3-2f011a823111",
   "metadata": {},
   "outputs": [],
   "source": []
  }
 ],
 "metadata": {
  "kernelspec": {
   "display_name": "Python 3 (ipykernel)",
   "language": "python",
   "name": "python3"
  },
  "language_info": {
   "codemirror_mode": {
    "name": "ipython",
    "version": 3
   },
   "file_extension": ".py",
   "mimetype": "text/x-python",
   "name": "python",
   "nbconvert_exporter": "python",
   "pygments_lexer": "ipython3",
   "version": "3.11.7"
  }
 },
 "nbformat": 4,
 "nbformat_minor": 5
}
