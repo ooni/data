{
 "cells": [
  {
   "cell_type": "code",
   "execution_count": 1,
   "id": "99aba231-cfe4-4ecb-8233-b34c90515fe9",
   "metadata": {},
   "outputs": [
    {
     "name": "stderr",
     "output_type": "stream",
     "text": [
      "/Users/art/repos/ooni/data/oonipipeline/.venv/lib/python3.11/site-packages/tqdm/auto.py:21: TqdmWarning: IProgress not found. Please update jupyter and ipywidgets. See https://ipywidgets.readthedocs.io/en/stable/user_install.html\n",
      "  from .autonotebook import tqdm as notebook_tqdm\n"
     ]
    }
   ],
   "source": [
    "import pandas as pd\n",
    "from IPython.display import Image\n",
    "from pgmpy.models import BayesianNetwork\n",
    "from pgmpy.factors.discrete import TabularCPD"
   ]
  },
  {
   "cell_type": "code",
   "execution_count": 2,
   "id": "c76afe2b-1a36-494f-aa99-c9ae037b39be",
   "metadata": {},
   "outputs": [],
   "source": [
    "msmt_feedback = pd.read_csv(\"msmt_feedback_clean.csv\")"
   ]
  },
  {
   "cell_type": "code",
   "execution_count": 3,
   "id": "ce851a49-6dab-472d-a5a7-78c41395acca",
   "metadata": {},
   "outputs": [
    {
     "data": {
      "text/plain": [
       "'20240818234433.791006_VE_webconnectivity_8fac03865551a8eb'"
      ]
     },
     "execution_count": 3,
     "metadata": {},
     "output_type": "execute_result"
    }
   ],
   "source": [
    "msmt_feedback.iloc[283]['measurement_uid']"
   ]
  },
  {
   "cell_type": "code",
   "execution_count": 4,
   "id": "f9393b66-f6af-4d17-884d-ffda1683b8f3",
   "metadata": {},
   "outputs": [],
   "source": [
    "# 20231129041111.939896_NP_webconnectivity_32105af63774eabf"
   ]
  },
  {
   "cell_type": "code",
   "execution_count": 5,
   "id": "1b64f651-0707-4bb9-9205-2df6658ed0eb",
   "metadata": {},
   "outputs": [],
   "source": [
    "from pathlib import Path\n",
    "from oonidata.dataclient import load_measurement\n",
    "from oonidata.apiclient import get_measurement_dict_by_uid\n",
    "\n",
    "from oonipipeline.netinfo import NetinfoDB\n",
    "from oonipipeline.transforms.observations import measurement_to_observations"
   ]
  },
  {
   "cell_type": "code",
   "execution_count": 53,
   "id": "9605bec3-2993-4520-b810-aed279284d00",
   "metadata": {},
   "outputs": [],
   "source": [
    "possible_states = {\n",
    "    'DNS Ctrl Failure': ['none', 'nxdomain', 'server_failure'],\n",
    "     'DNS VP Failure': ['none', 'nxdomain', 'server_failure'],\n",
    "     'DNS Answer': [\n",
    "         'answer_is_bogon',\n",
    "      'answer_matches_probe_asn',\n",
    "      'answer_matches_probe_cc',\n",
    "      'answer_is_cloud_provider',\n",
    "      'answer_other'\n",
    "     ],\n",
    " 'DNS Answer TLS Consistency': [\n",
    "     'tls_consistent',\n",
    "  'tls_inconsistent',\n",
    "  'unknown'\n",
    " ],\n",
    " 'TCP Ctrl Failure': ['none', 'connection_reset', 'timeout', 'other'],\n",
    " 'TCP VP Result': ['none', 'connection_reset', 'timeout', 'other', 'down'],\n",
    " 'TLS Ctrl Failure': ['none', 'bad_certificate', 'other'],\n",
    " 'TLS VP Result': ['none',\n",
    "  'bad_certificate',\n",
    "  'connection_reset_after_ch',\n",
    "  'timeout_after_ch',\n",
    "  'timeout',\n",
    "  'connection_reset',\n",
    "  'other',\n",
    "  'down'],\n",
    "}"
   ]
  },
  {
   "cell_type": "code",
   "execution_count": null,
   "id": "83d5ed8f-569b-4345-a09e-c5c388dc31f4",
   "metadata": {},
   "outputs": [],
   "source": []
  },
  {
   "cell_type": "code",
   "execution_count": null,
   "id": "23fff868-7e7f-4961-9fbb-f2857e4cb899",
   "metadata": {},
   "outputs": [],
   "source": []
  },
  {
   "cell_type": "code",
   "execution_count": 113,
   "id": "dfc9bfb1-8a39-4278-a072-1fb96ed1d2bf",
   "metadata": {},
   "outputs": [
    {
     "data": {
      "text/plain": [
       "WebControlObservation(measurement_meta=MeasurementMeta(measurement_uid='20240804233508.181041_TR_webconnectivity_9a7272e520f3d836', input='https://www.instagram.com/', report_id='20240804T233501Z_webconnectivity_TR_47331_n1_ZXMtX88TjWN1oGmK', measurement_start_time=datetime.datetime(2024, 8, 4, 23, 35, 7), software_name='ooniprobe-android-unattended', software_version='3.8.8', test_name='web_connectivity', test_version='0.4.3', bucket_date='1984-01-01'), processing_meta=ProcessingMeta(processing_start_time=datetime.datetime(2024, 8, 25, 12, 54, 49, 976211, tzinfo=datetime.timezone.utc), processing_end_time=datetime.datetime(2024, 8, 25, 12, 54, 49, 978491, tzinfo=datetime.timezone.utc)), hostname='www.instagram.com', observation_id='20240804233508.181041_TR_webconnectivity_9a7272e520f3d836_0', created_at=datetime.datetime(2024, 8, 25, 12, 54, 49, 976177), ip='157.240.0.174', port=443, ip_asn=32934, ip_as_org_name='Facebook, Inc.', ip_as_cc='US', ip_cc='DE', ip_is_bogon=False, dns_failure=None, dns_success=True, tcp_failure=None, tcp_success=True, tls_failure=None, tls_success=True, tls_server_name='www.instagram.com', http_request_url=None, http_failure=None, http_success=None, http_response_body_length=None)"
      ]
     },
     "execution_count": 113,
     "metadata": {},
     "output_type": "execute_result"
    }
   ],
   "source": [
    "web_control_observations[1].ip"
   ]
  },
  {
   "cell_type": "code",
   "execution_count": 117,
   "id": "8bd8a640-3e6d-4d54-b971-eb3332abcd89",
   "metadata": {},
   "outputs": [
    {
     "data": {
      "text/plain": [
       "WebObservation(measurement_meta=MeasurementMeta(measurement_uid='20240804233508.181041_TR_webconnectivity_9a7272e520f3d836', input='https://www.instagram.com/', report_id='20240804T233501Z_webconnectivity_TR_47331_n1_ZXMtX88TjWN1oGmK', measurement_start_time=datetime.datetime(2024, 8, 4, 23, 35, 7), software_name='ooniprobe-android-unattended', software_version='3.8.8', test_name='web_connectivity', test_version='0.4.3', bucket_date='1984-01-01'), probe_meta=ProbeMeta(probe_asn=47331, probe_cc='TR', probe_as_org_name='TTNet A.S.', probe_as_cc='TR', probe_as_name='20160401', network_type='wifi', platform='android', origin='autorun', engine_name='ooniprobe-engine', engine_version='3.22.0', architecture='arm64', resolver_ip='207.211.215.145', resolver_asn=60068, resolver_cc='TR', resolver_as_org_name='Datacamp Limited', resolver_as_cc='GB', resolver_is_scrubbed=False, resolver_asn_probe=60068, resolver_as_org_name_probe='Datacamp Limited'), processing_meta=ProcessingMeta(processing_start_time=datetime.datetime(2024, 8, 25, 12, 54, 49, 974157, tzinfo=datetime.timezone.utc), processing_end_time=datetime.datetime(2024, 8, 25, 12, 54, 49, 976062, tzinfo=datetime.timezone.utc)), observation_id='20240804233508.181041_TR_webconnectivity_9a7272e520f3d836_1', created_at=datetime.datetime(2024, 8, 25, 12, 54, 49), processing_time=None, target_id=None, hostname='www.instagram.com', transaction_id=None, ip='2a03:2880:f223:e5:face:b00c:0:4420', port=443, ip_asn=32934, ip_as_org_name='Facebook, Inc.', ip_as_cc='US', ip_cc='IE', ip_is_bogon=False, dns_query_type='AAAA', dns_failure=None, dns_engine='system', dns_engine_resolver_address='', dns_answer_type='AAAA', dns_answer='2a03:2880:f223:e5:face:b00c:0:4420', dns_answer_asn=32934, dns_answer_as_org_name='Facebook, Inc.', dns_t=0.027259692, tcp_failure='network_unreachable', tcp_success=False, tcp_t=0.468265846, tls_failure=None, tls_server_name=None, tls_version=None, tls_cipher_suite=None, tls_is_certificate_valid=None, tls_end_entity_certificate_fingerprint=None, tls_end_entity_certificate_subject=None, tls_end_entity_certificate_subject_common_name=None, tls_end_entity_certificate_issuer=None, tls_end_entity_certificate_issuer_common_name=None, tls_end_entity_certificate_san_list=[], tls_end_entity_certificate_not_valid_after=None, tls_end_entity_certificate_not_valid_before=None, tls_certificate_chain_length=None, tls_certificate_chain_fingerprints=[], tls_handshake_read_count=None, tls_handshake_write_count=None, tls_handshake_read_bytes=None, tls_handshake_write_bytes=None, tls_handshake_last_operation=None, tls_handshake_time=None, tls_t=None, http_request_url=None, http_network=None, http_alpn=None, http_failure=None, http_request_body_length=None, http_request_method=None, http_runtime=None, http_response_body_length=None, http_response_body_is_truncated=None, http_response_body_sha1=None, http_response_status_code=None, http_response_header_location=None, http_response_header_server=None, http_request_redirect_from=None, http_request_body_is_truncated=None, http_t=None, probe_analysis='http-failure')"
      ]
     },
     "execution_count": 117,
     "metadata": {},
     "output_type": "execute_result"
    }
   ],
   "source": [
    "web_observations[1]"
   ]
  },
  {
   "cell_type": "code",
   "execution_count": 97,
   "id": "c736483d-b280-4972-aa38-70d272c077a8",
   "metadata": {},
   "outputs": [
    {
     "data": {
      "text/plain": [
       "WebControlObservation(measurement_meta=MeasurementMeta(measurement_uid='20240804233508.181041_TR_webconnectivity_9a7272e520f3d836', input='https://www.instagram.com/', report_id='20240804T233501Z_webconnectivity_TR_47331_n1_ZXMtX88TjWN1oGmK', measurement_start_time=datetime.datetime(2024, 8, 4, 23, 35, 7), software_name='ooniprobe-android-unattended', software_version='3.8.8', test_name='web_connectivity', test_version='0.4.3', bucket_date='1984-01-01'), processing_meta=ProcessingMeta(processing_start_time=datetime.datetime(2024, 8, 25, 12, 54, 49, 976254, tzinfo=datetime.timezone.utc), processing_end_time=datetime.datetime(2024, 8, 25, 12, 54, 49, 978492, tzinfo=datetime.timezone.utc)), hostname='www.instagram.com', observation_id='20240804233508.181041_TR_webconnectivity_9a7272e520f3d836_1', created_at=datetime.datetime(2024, 8, 25, 12, 54, 49, 976177), ip='185.60.218.174', port=443, ip_asn=32934, ip_as_org_name='Facebook, Inc.', ip_as_cc='US', ip_cc='RO', ip_is_bogon=False, dns_failure=None, dns_success=None, tcp_failure=None, tcp_success=True, tls_failure=None, tls_success=True, tls_server_name='www.instagram.com', http_request_url=None, http_failure=None, http_success=None, http_response_body_length=None)"
      ]
     },
     "execution_count": 97,
     "metadata": {},
     "output_type": "execute_result"
    }
   ],
   "source": [
    "find_relevant_control(web_observations[0], web_control_observations)"
   ]
  },
  {
   "cell_type": "code",
   "execution_count": 104,
   "id": "f4dc4093-fdfc-410e-b5fa-ea5fada37159",
   "metadata": {},
   "outputs": [
    {
     "data": {
      "text/plain": [
       "[WebControlObservation(measurement_meta=MeasurementMeta(measurement_uid='20240804233508.181041_TR_webconnectivity_9a7272e520f3d836', input='https://www.instagram.com/', report_id='20240804T233501Z_webconnectivity_TR_47331_n1_ZXMtX88TjWN1oGmK', measurement_start_time=datetime.datetime(2024, 8, 4, 23, 35, 7), software_name='ooniprobe-android-unattended', software_version='3.8.8', test_name='web_connectivity', test_version='0.4.3', bucket_date='1984-01-01'), processing_meta=ProcessingMeta(processing_start_time=datetime.datetime(2024, 8, 25, 12, 54, 49, 976211, tzinfo=datetime.timezone.utc), processing_end_time=datetime.datetime(2024, 8, 25, 12, 54, 49, 978491, tzinfo=datetime.timezone.utc)), hostname='www.instagram.com', observation_id='20240804233508.181041_TR_webconnectivity_9a7272e520f3d836_0', created_at=datetime.datetime(2024, 8, 25, 12, 54, 49, 976177), ip='157.240.0.174', port=443, ip_asn=32934, ip_as_org_name='Facebook, Inc.', ip_as_cc='US', ip_cc='DE', ip_is_bogon=False, dns_failure=None, dns_success=True, tcp_failure=None, tcp_success=True, tls_failure=None, tls_success=True, tls_server_name='www.instagram.com', http_request_url=None, http_failure=None, http_success=None, http_response_body_length=None),\n",
       " WebControlObservation(measurement_meta=MeasurementMeta(measurement_uid='20240804233508.181041_TR_webconnectivity_9a7272e520f3d836', input='https://www.instagram.com/', report_id='20240804T233501Z_webconnectivity_TR_47331_n1_ZXMtX88TjWN1oGmK', measurement_start_time=datetime.datetime(2024, 8, 4, 23, 35, 7), software_name='ooniprobe-android-unattended', software_version='3.8.8', test_name='web_connectivity', test_version='0.4.3', bucket_date='1984-01-01'), processing_meta=ProcessingMeta(processing_start_time=datetime.datetime(2024, 8, 25, 12, 54, 49, 976254, tzinfo=datetime.timezone.utc), processing_end_time=datetime.datetime(2024, 8, 25, 12, 54, 49, 978492, tzinfo=datetime.timezone.utc)), hostname='www.instagram.com', observation_id='20240804233508.181041_TR_webconnectivity_9a7272e520f3d836_1', created_at=datetime.datetime(2024, 8, 25, 12, 54, 49, 976177), ip='185.60.218.174', port=443, ip_asn=32934, ip_as_org_name='Facebook, Inc.', ip_as_cc='US', ip_cc='RO', ip_is_bogon=False, dns_failure=None, dns_success=None, tcp_failure=None, tcp_success=True, tls_failure=None, tls_success=True, tls_server_name='www.instagram.com', http_request_url=None, http_failure=None, http_success=None, http_response_body_length=None),\n",
       " WebControlObservation(measurement_meta=MeasurementMeta(measurement_uid='20240804233508.181041_TR_webconnectivity_9a7272e520f3d836', input='https://www.instagram.com/', report_id='20240804T233501Z_webconnectivity_TR_47331_n1_ZXMtX88TjWN1oGmK', measurement_start_time=datetime.datetime(2024, 8, 4, 23, 35, 7), software_name='ooniprobe-android-unattended', software_version='3.8.8', test_name='web_connectivity', test_version='0.4.3', bucket_date='1984-01-01'), processing_meta=ProcessingMeta(processing_start_time=datetime.datetime(2024, 8, 25, 12, 54, 49, 976315, tzinfo=datetime.timezone.utc), processing_end_time=datetime.datetime(2024, 8, 25, 12, 54, 49, 978494, tzinfo=datetime.timezone.utc)), hostname='www.instagram.com', observation_id='20240804233508.181041_TR_webconnectivity_9a7272e520f3d836_2', created_at=datetime.datetime(2024, 8, 25, 12, 54, 49, 976177), ip='2a03:2880:f223:e5:face:b00c:0:4420', port=443, ip_asn=32934, ip_as_org_name='Facebook, Inc.', ip_as_cc='US', ip_cc='IE', ip_is_bogon=False, dns_failure=None, dns_success=None, tcp_failure=None, tcp_success=True, tls_failure=None, tls_success=True, tls_server_name='www.instagram.com', http_request_url=None, http_failure=None, http_success=None, http_response_body_length=None),\n",
       " WebControlObservation(measurement_meta=MeasurementMeta(measurement_uid='20240804233508.181041_TR_webconnectivity_9a7272e520f3d836', input='https://www.instagram.com/', report_id='20240804T233501Z_webconnectivity_TR_47331_n1_ZXMtX88TjWN1oGmK', measurement_start_time=datetime.datetime(2024, 8, 4, 23, 35, 7), software_name='ooniprobe-android-unattended', software_version='3.8.8', test_name='web_connectivity', test_version='0.4.3', bucket_date='1984-01-01'), processing_meta=ProcessingMeta(processing_start_time=datetime.datetime(2024, 8, 25, 12, 54, 49, 976362, tzinfo=datetime.timezone.utc), processing_end_time=datetime.datetime(2024, 8, 25, 12, 54, 49, 978495, tzinfo=datetime.timezone.utc)), hostname='www.instagram.com', observation_id='20240804233508.181041_TR_webconnectivity_9a7272e520f3d836_3', created_at=datetime.datetime(2024, 8, 25, 12, 54, 49, 976177), ip='2a03:2880:f277:1e8:face:b00c:0:4420', port=443, ip_asn=32934, ip_as_org_name='Facebook, Inc.', ip_as_cc='US', ip_cc='IE', ip_is_bogon=False, dns_failure=None, dns_success=True, tcp_failure=None, tcp_success=True, tls_failure=None, tls_success=True, tls_server_name='www.instagram.com', http_request_url=None, http_failure=None, http_success=None, http_response_body_length=None),\n",
       " WebControlObservation(measurement_meta=MeasurementMeta(measurement_uid='20240804233508.181041_TR_webconnectivity_9a7272e520f3d836', input='https://www.instagram.com/', report_id='20240804T233501Z_webconnectivity_TR_47331_n1_ZXMtX88TjWN1oGmK', measurement_start_time=datetime.datetime(2024, 8, 4, 23, 35, 7), software_name='ooniprobe-android-unattended', software_version='3.8.8', test_name='web_connectivity', test_version='0.4.3', bucket_date='1984-01-01'), processing_meta=ProcessingMeta(processing_start_time=datetime.datetime(2024, 8, 25, 12, 54, 49, 978475, tzinfo=datetime.timezone.utc), processing_end_time=datetime.datetime(2024, 8, 25, 12, 54, 49, 978496, tzinfo=datetime.timezone.utc)), hostname='www.instagram.com', observation_id='20240804233508.181041_TR_webconnectivity_9a7272e520f3d836_4', created_at=datetime.datetime(2024, 8, 25, 12, 54, 49, 976177), ip='', port=None, ip_asn=None, ip_as_org_name=None, ip_as_cc=None, ip_cc=None, ip_is_bogon=None, dns_failure=None, dns_success=None, tcp_failure=None, tcp_success=None, tls_failure=None, tls_success=None, tls_server_name=None, http_request_url='https://www.instagram.com/', http_failure=None, http_success=True, http_response_body_length=280298)]"
      ]
     },
     "execution_count": 104,
     "metadata": {},
     "output_type": "execute_result"
    }
   ],
   "source": [
    "web_control_observations"
   ]
  },
  {
   "cell_type": "code",
   "execution_count": 2,
   "id": "d625a231-d3f6-4f05-93be-5710392437fd",
   "metadata": {},
   "outputs": [],
   "source": [
    "web_analysis_bn_full = BayesianNetwork([\n",
    "    ('DNS Ctrl Failure', 'DNS VP Failure'),\n",
    "    ('DNS Ctrl Failure', 'DNS Failure Consistency'),\n",
    "    #('Resolver config', 'DNS Outcome'),\n",
    "    ('DNS Answer', 'DNS Answer Consistency'),\n",
    "    ('DNS Answer', 'DNS Answer TLS Consistency'),\n",
    "    ('DNS Answer TLS Consistency', 'DNS Answer Consistency'),\n",
    "    ('DNS Answer Consistency', 'DNS Outcome'),\n",
    "\n",
    "    ('DNS VP Failure', 'DNS Failure Consistency'),\n",
    "    ('DNS Failure Consistency', 'DNS Outcome'),\n",
    "\n",
    "    ('TCP Ctrl Failure', 'TCP VP Result'),\n",
    "\n",
    "    ('DNS Answer Consistency', 'TCP Outcome'),\n",
    "    ('TCP VP Result', 'TCP Outcome'),\n",
    "\n",
    "    ('TLS Ctrl Failure', 'TLS VP Result'),\n",
    "    ('TLS VP Result', 'TLS Outcome'),\n",
    "    ('DNS Answer Consistency', 'TLS Outcome'),\n",
    "])"
   ]
  },
  {
   "cell_type": "code",
   "execution_count": 3,
   "id": "94f26d5a-7d07-406f-ab76-a44706e5fee7",
   "metadata": {},
   "outputs": [
    {
     "data": {
      "image/png": "[encoded data removed]",
      "text/plain": [
       "<IPython.core.display.Image object>"
      ]
     },
     "execution_count": 3,
     "metadata": {},
     "output_type": "execute_result"
    }
   ],
   "source": [
    "viz = web_analysis_bn_full.to_graphviz()\n",
    "viz.draw('web_analysis_full.png', prog='dot')\n",
    "Image('web_analysis_full.png')"
   ]
  },
  {
   "cell_type": "code",
   "execution_count": 10,
   "id": "a6346742-dc39-40e3-8673-686b25fb7d87",
   "metadata": {},
   "outputs": [],
   "source": [
    "web_analysis_bn = BayesianNetwork([\n",
    "    ('DNS Ctrl Failure', 'DNS Outcome'),\n",
    "    ('DNS Ctrl Failure', 'DNS Answer Meta'),\n",
    "    #('Resolver config', 'DNS Outcome'),\n",
    "    ('DNS Consistency', 'DNS Outcome'),\n",
    "    ('DNS Answer Meta', 'DNS Consistency'),\n",
    "    ('DNS Answer Meta', 'DNS TLS Consistency'),\n",
    "    ('DNS TLS Consistency', 'DNS Consistency'),\n",
    "])"
   ]
  },
  {
   "cell_type": "code",
   "execution_count": 11,
   "id": "f78e3c55-3826-4622-b720-74452c7c13a2",
   "metadata": {},
   "outputs": [],
   "source": [
    "#web_analysis_bn.save('web_analysi.bif')"
   ]
  },
  {
   "cell_type": "code",
   "execution_count": 12,
   "id": "3d63e9c3-0430-4bc1-a5e3-583ae71f3405",
   "metadata": {},
   "outputs": [
    {
     "ename": "ImportError",
     "evalue": "requires pygraphviz http://pygraphviz.github.io/",
     "output_type": "error",
     "traceback": [
      "\u001b[0;31m---------------------------------------------------------------------------\u001b[0m",
      "\u001b[0;31mModuleNotFoundError\u001b[0m                       Traceback (most recent call last)",
      "File \u001b[0;32m~/repos/ooni/data/oonipipeline/.venv/lib/python3.11/site-packages/networkx/drawing/nx_agraph.py:134\u001b[0m, in \u001b[0;36mto_agraph\u001b[0;34m(N)\u001b[0m\n\u001b[1;32m    133\u001b[0m \u001b[38;5;28;01mtry\u001b[39;00m:\n\u001b[0;32m--> 134\u001b[0m     \u001b[38;5;28;01mimport\u001b[39;00m \u001b[38;5;21;01mpygraphviz\u001b[39;00m\n\u001b[1;32m    135\u001b[0m \u001b[38;5;28;01mexcept\u001b[39;00m \u001b[38;5;167;01mImportError\u001b[39;00m \u001b[38;5;28;01mas\u001b[39;00m err:\n",
      "\u001b[0;31mModuleNotFoundError\u001b[0m: No module named 'pygraphviz'",
      "\nThe above exception was the direct cause of the following exception:\n",
      "\u001b[0;31mImportError\u001b[0m                               Traceback (most recent call last)",
      "Cell \u001b[0;32mIn[12], line 1\u001b[0m\n\u001b[0;32m----> 1\u001b[0m viz \u001b[38;5;241m=\u001b[39m \u001b[43mweb_analysis_bn\u001b[49m\u001b[38;5;241;43m.\u001b[39;49m\u001b[43mto_graphviz\u001b[49m\u001b[43m(\u001b[49m\u001b[43m)\u001b[49m\n\u001b[1;32m      2\u001b[0m viz\u001b[38;5;241m.\u001b[39mdraw(\u001b[38;5;124m'\u001b[39m\u001b[38;5;124mweb_analysis_simple.png\u001b[39m\u001b[38;5;124m'\u001b[39m, prog\u001b[38;5;241m=\u001b[39m\u001b[38;5;124m'\u001b[39m\u001b[38;5;124mdot\u001b[39m\u001b[38;5;124m'\u001b[39m)\n\u001b[1;32m      3\u001b[0m Image(\u001b[38;5;124m'\u001b[39m\u001b[38;5;124mweb_analysis_simple.png\u001b[39m\u001b[38;5;124m'\u001b[39m)\n",
      "File \u001b[0;32m~/repos/ooni/data/oonipipeline/.venv/lib/python3.11/site-packages/pgmpy/base/DAG.py:1082\u001b[0m, in \u001b[0;36mDAG.to_graphviz\u001b[0;34m(self)\u001b[0m\n\u001b[1;32m   1069\u001b[0m \u001b[38;5;28;01mdef\u001b[39;00m \u001b[38;5;21mto_graphviz\u001b[39m(\u001b[38;5;28mself\u001b[39m):\n\u001b[1;32m   1070\u001b[0m \u001b[38;5;250m    \u001b[39m\u001b[38;5;124;03m\"\"\"\u001b[39;00m\n\u001b[1;32m   1071\u001b[0m \u001b[38;5;124;03m    Retuns a pygraphviz object for the DAG. pygraphviz is useful for\u001b[39;00m\n\u001b[1;32m   1072\u001b[0m \u001b[38;5;124;03m    visualizing the network structure.\u001b[39;00m\n\u001b[0;32m   (...)\u001b[0m\n\u001b[1;32m   1080\u001b[0m \u001b[38;5;124;03m    >>> model.draw('model.png', prog='neato')\u001b[39;00m\n\u001b[1;32m   1081\u001b[0m \u001b[38;5;124;03m    \"\"\"\u001b[39;00m\n\u001b[0;32m-> 1082\u001b[0m     \u001b[38;5;28;01mreturn\u001b[39;00m \u001b[43mnx\u001b[49m\u001b[38;5;241;43m.\u001b[39;49m\u001b[43mnx_agraph\u001b[49m\u001b[38;5;241;43m.\u001b[39;49m\u001b[43mto_agraph\u001b[49m\u001b[43m(\u001b[49m\u001b[38;5;28;43mself\u001b[39;49m\u001b[43m)\u001b[49m\n",
      "File \u001b[0;32m~/repos/ooni/data/oonipipeline/.venv/lib/python3.11/site-packages/networkx/drawing/nx_agraph.py:136\u001b[0m, in \u001b[0;36mto_agraph\u001b[0;34m(N)\u001b[0m\n\u001b[1;32m    134\u001b[0m     \u001b[38;5;28;01mimport\u001b[39;00m \u001b[38;5;21;01mpygraphviz\u001b[39;00m\n\u001b[1;32m    135\u001b[0m \u001b[38;5;28;01mexcept\u001b[39;00m \u001b[38;5;167;01mImportError\u001b[39;00m \u001b[38;5;28;01mas\u001b[39;00m err:\n\u001b[0;32m--> 136\u001b[0m     \u001b[38;5;28;01mraise\u001b[39;00m \u001b[38;5;167;01mImportError\u001b[39;00m(\u001b[38;5;124m\"\u001b[39m\u001b[38;5;124mrequires pygraphviz http://pygraphviz.github.io/\u001b[39m\u001b[38;5;124m\"\u001b[39m) \u001b[38;5;28;01mfrom\u001b[39;00m \u001b[38;5;21;01merr\u001b[39;00m\n\u001b[1;32m    137\u001b[0m directed \u001b[38;5;241m=\u001b[39m N\u001b[38;5;241m.\u001b[39mis_directed()\n\u001b[1;32m    138\u001b[0m strict \u001b[38;5;241m=\u001b[39m nx\u001b[38;5;241m.\u001b[39mnumber_of_selfloops(N) \u001b[38;5;241m==\u001b[39m \u001b[38;5;241m0\u001b[39m \u001b[38;5;129;01mand\u001b[39;00m \u001b[38;5;129;01mnot\u001b[39;00m N\u001b[38;5;241m.\u001b[39mis_multigraph()\n",
      "\u001b[0;31mImportError\u001b[0m: requires pygraphviz http://pygraphviz.github.io/"
     ]
    }
   ],
   "source": [
    "viz = web_analysis_bn.to_graphviz()\n",
    "viz.draw('web_analysis_simple.png', prog='dot')\n",
    "Image('web_analysis_simple.png')"
   ]
  },
  {
   "cell_type": "code",
   "execution_count": null,
   "id": "832d93dd-4cfa-459a-8e1e-01a66cbee2d9",
   "metadata": {},
   "outputs": [],
   "source": []
  },
  {
   "cell_type": "code",
   "execution_count": null,
   "id": "13312638-208f-4798-8eae-268fb29a817c",
   "metadata": {},
   "outputs": [],
   "source": []
  },
  {
   "cell_type": "code",
   "execution_count": null,
   "id": "57082d9d-01d0-43ec-91af-2a54e85ae0a2",
   "metadata": {},
   "outputs": [],
   "source": []
  },
  {
   "cell_type": "code",
   "execution_count": null,
   "id": "fb31f020-28d9-4f3c-9d72-1ed687623fea",
   "metadata": {},
   "outputs": [],
   "source": []
  },
  {
   "cell_type": "code",
   "execution_count": 13,
   "id": "b3cad79a-bce8-4efb-b811-80f6458fb16c",
   "metadata": {},
   "outputs": [],
   "source": [
    "def print_boilerplate():\n",
    "    cpd_list = []\n",
    "    for x in list(web_analysis_bn.nodes):\n",
    "        var_name = x.lower().replace(' ', '_')\n",
    "        var_name = f\"cpd_{var_name}\"\n",
    "        s = f\"{var_name} = TabularCPD('{x}', variable_card=2, values=[\\n\"\n",
    "        parents = web_analysis_bn.get_parents(x)\n",
    "        padding = \" \"*(int(len(s)/2))\n",
    "        for _ in range(2):\n",
    "            s += padding + \"[\"\n",
    "            s += \",\".join(\"0.\" for x in range(len(parents)))\n",
    "            s += \"],\\n\"\n",
    "        s += padding + f\"],\\n\" \n",
    "        s += padding + f\" # parents={parents}\\n\"\n",
    "        s += padding + f\"evidence={parents},\\n\"\n",
    "        s += padding + f\"evidence_card=[],\\n\"\n",
    "        s += padding + \"state_names = {\\n\"\n",
    "        for p in parents:\n",
    "            s += padding + f\"'{p}': [],\\n\"\n",
    "        s += \"}\\n\"\n",
    "        s += padding + \")\"\n",
    "        print(s)\n",
    "        cpd_list.append(var_name)"
   ]
  },
  {
   "cell_type": "code",
   "execution_count": null,
   "id": "5c1d1232-ed7a-4539-82bf-e43fd52b8f23",
   "metadata": {},
   "outputs": [],
   "source": []
  },
  {
   "cell_type": "code",
   "execution_count": 14,
   "id": "509c45ee-b22d-461a-998b-a701c5090580",
   "metadata": {},
   "outputs": [],
   "source": [
    "dns_answer_states = [\n",
    "\"answer_is_bogon\", \n",
    "\"answer_matches_probe_asn\", \n",
    "\"answer_matches_probe_cc\",\n",
    "\"answer_is_cloud_provider\",\n",
    "\"answer_other\"\n",
    "]\n",
    "dns_failure_states = [\n",
    "    \"none\",\n",
    "    \"nxdomain\",\n",
    "    \"server_failure\"\n",
    "]\n",
    "tls_consistency_states = [\"tls_consistent\", \"tls_inconsistent\", \"unknown\"]\n",
    "cpd_dns_ctrl_failure = TabularCPD(\n",
    "    \"DNS Ctrl Failure\",\n",
    "    variable_card=3,\n",
    "    values=[\n",
    "        [0.994],\n",
    "        [0.004],\n",
    "        [0.002],\n",
    "    ],\n",
    "    state_names={\n",
    "        \"DNS Ctrl Failure\": dns_failure_states\n",
    "    },\n",
    ")\n",
    "cpd_dns_vp_failure = TabularCPD(\n",
    "    \"DNS VP Failure\",\n",
    "    variable_card=3,\n",
    "    values=[\n",
    "        # \"none\",    \"nxdomain\", \"server_failure\"\n",
    "        [0.994, 0.02, 0.02],\n",
    "        [0.004, 0.98, 0.01],\n",
    "        [0.002, 0.01, 0.98],\n",
    "    ],\n",
    "    evidence=[\"DNS Ctrl Failure\"],\n",
    "    evidence_card=[3],\n",
    "    state_names={\n",
    "        \"DNS VP Failure\": dns_failure_states,\n",
    "        \"DNS Ctrl Failure\": dns_failure_states\n",
    "    },\n",
    ")\n",
    "cpd_dns_failure_consistency = TabularCPD(\n",
    "    \"DNS Failure Consistency\",\n",
    "    variable_card=3,\n",
    "    values=[\n",
    "        # \"none\",    \"nxdomain\", \"server_failure\"\n",
    "        [0.99, 0.01, 0.01, 0.94, 0.01, 0.01, 0.94, 0.01, 0.01], # ok\n",
    "        [0.01, 0.05, 0.05, 0.01, 0.98, 0.92, 0.01, 0.92, 0.98], # expected_not_ok\n",
    "        [0.01, 0.94, 0.94, 0.05, 0.01, 0.07, 0.05, 0.07, 0.01] # unexpected_not_ok\n",
    "    ],\n",
    "    evidence=[\"DNS Ctrl Failure\", \"DNS VP Failure\"],\n",
    "    evidence_card=[3, 3],\n",
    "    state_names={\n",
    "        \"DNS Failure Consistency\": [\n",
    "            \"ok\", \n",
    "            \"expected_not_ok\",\n",
    "            \"unexpected_not_ok\"\n",
    "        ],\n",
    "        \"DNS VP Failure\": dns_failure_states,\n",
    "        \"DNS Ctrl Failure\": dns_failure_states\n",
    "    },\n",
    ")\n",
    "\n",
    "cpd_dns_answer = TabularCPD(\n",
    "    \"DNS Answer\",\n",
    "    variable_card=5,\n",
    "    values=[\n",
    "        [0.004],\n",
    "        [0.006],\n",
    "        [0.06],\n",
    "        [0.73],\n",
    "        [0.2],\n",
    "    ],\n",
    "    state_names={\n",
    "        \"DNS Answer\": dns_answer_states,\n",
    "    },\n",
    ")\n",
    "cpd_dns_answer_tls_consistency = TabularCPD(\n",
    "    \"DNS Answer TLS Consistency\",\n",
    "    variable_card=3,\n",
    "    values=[\n",
    "        # \"answer_is_bogon\", \"answer_matches_probe_asn\", \"answer_matches_probe_cc\", \"answer_is_cloud_provider\", \"answer_other\"\n",
    "        [0.01, 0.80, 0.75, 0.90, 0.94], # tls_consistent\n",
    "        [0.05, 0.15, 0.20, 0.08, 0.04], # tls_inconsistent\n",
    "        [0.94, 0.05, 0.05, 0.02, 0.02], # unknown\n",
    "    ],\n",
    "    evidence=[\"DNS Answer\"],\n",
    "    evidence_card=[5],\n",
    "    state_names={\n",
    "        \"DNS Answer TLS Consistency\": tls_consistency_states,\n",
    "        \"DNS Answer\": dns_answer_states,\n",
    "    },\n",
    ")\n",
    "cpd_dns_answer_consistency = TabularCPD(\n",
    "    \"DNS Answer Consistency\",\n",
    "    variable_card=2,\n",
    "    values=[\n",
    "        # \"answer_is_bogon\", \"answer_matches_probe_asn\",  \"answer_matches_probe_cc\", \"answer_is_cloud_provider\", \"answer_other\"\n",
    "        # tls_consistent\", \"tls_inconsistent\", \"unknown\n",
    "        [0.99, 0.001, 0.001, 0.999, 0.01, 0.3, 0.999, 0.001, 0.3, 0.999, 0.01, 0.8, 0.999, 0.001, 0.2], # consistent\n",
    "        [0.01, 0.999, 0.999, 0.001, 0.99, 0.7, 0.001, 0.999, 0.7, 0.001, 0.99, 0.2, 0.001, 0.999, 0.8], # inconsistent\n",
    "    ],\n",
    "    # parents={parents}\n",
    "    evidence=[\"DNS Answer\", \"DNS Answer TLS Consistency\"],\n",
    "    evidence_card=[5, 3],\n",
    "    state_names={\n",
    "        \"DNS Answer\": dns_answer_states,\n",
    "        \"DNS Answer TLS Consistency\": tls_consistency_states,\n",
    "        \"DNS Answer Consistency\": [\n",
    "            \"consistent\",\n",
    "            \"inconsistent\"\n",
    "        ],\n",
    "    },\n",
    ")\n",
    "\n",
    "cpd_dns_outcome = TabularCPD(\n",
    "    \"DNS Outcome\",\n",
    "    variable_card=3,\n",
    "    values=[\n",
    "        # Consistent, inconsistent\n",
    "        [0.01, 0.01, 0.40, 0.8, 0.20, 0.90], # blocked\n",
    "        [0.99, 0.01, 0.40, 0.2, 0.05, 0.01], # ok\n",
    "        [0.00, 0.98, 0.20, 0.0, 0.75, 0.09], # down\n",
    "    ],\n",
    "    evidence=[\n",
    "        \"DNS Answer Consistency\",\n",
    "        \"DNS Failure Consistency\",\n",
    "    ],\n",
    "    evidence_card=[2, 3],\n",
    "    state_names={\n",
    "        \"DNS Outcome\": [\n",
    "            \"blocked\",\n",
    "            \"ok\",\n",
    "            \"down\"\n",
    "        ],\n",
    "        \"DNS Answer Consistency\": [\"consistent\", \"inconsistent\"],\n",
    "        \"DNS Failure Consistency\": [\n",
    "            \"ok\", \n",
    "            \"expected_not_ok\",\n",
    "            \"unexpected_not_ok\"\n",
    "        ],\n",
    "    },\n",
    ")"
   ]
  },
  {
   "cell_type": "code",
   "execution_count": 15,
   "id": "710b4561-7b8f-47fd-a742-dd88e697a1bc",
   "metadata": {},
   "outputs": [],
   "source": [
    "tcp_failure_states = [\n",
    "    \"none\",\n",
    "    \"connection_reset\",\n",
    "    \"timeout\",\n",
    "    \"other\"\n",
    "]\n",
    "\n",
    "cpd_tcp_ctrl_failure = TabularCPD(\n",
    "    \"TCP Ctrl Failure\",\n",
    "    variable_card=4,\n",
    "    values=[\n",
    "        [0.980],\n",
    "        [0.001],\n",
    "        [0.014],\n",
    "        [0.005]\n",
    "    ],\n",
    "    state_names={\n",
    "        \"TCP Ctrl Failure\": tcp_failure_states\n",
    "    },\n",
    ")\n",
    "\n",
    "cpd_tcp_vp_result = TabularCPD(\n",
    "    \"TCP VP Result\",\n",
    "    variable_card=5,\n",
    "    values=[\n",
    "        # \"none\", \"connection_reset\", \"timeout\", \"other\"\n",
    "        [0.980, 0.02, 0.01, 0.01], # none\n",
    "        [0.001, 0.14, 0.02, 0.06], # connection_reset\n",
    "        [0.010, 0.05, 0.10, 0.06], # timeout\n",
    "        [0.009, 0.07, 0.02, 0.12], # other\n",
    "        [0.009, 0.72, 0.85, 0.75], # down\n",
    "    ],\n",
    "    evidence=[\"TCP Ctrl Failure\"],\n",
    "    evidence_card=[4],\n",
    "    state_names={\n",
    "        \"TCP VP Result\": tcp_failure_states + [\"down\"],\n",
    "        \"TCP Ctrl Failure\": tcp_failure_states\n",
    "    },\n",
    ")\n",
    "\n",
    "cpd_tcp_outcome = TabularCPD(\n",
    "    \"TCP Outcome\",\n",
    "    variable_card=4,\n",
    "    values=[\n",
    "        # consistent inconsistent\n",
    "        # \"none\", \"connection_reset\", \"timeout\", \"other\", \"down\"\n",
    "        [0.02, 0.95, 0.90, 0.85, 0.01, 0.07, 0.07, 0.07, 0.07, 0.05], # blocked\n",
    "        [0.95, 0.01, 0.01, 0.01, 0.08, 0.01, 0.01, 0.01, 0.01, 0.01], # ok\n",
    "        [0.02, 0.03, 0.08, 0.09, 0.01, 0.07, 0.07, 0.07, 0.07, 0.09], # down\n",
    "        [0.01, 0.01, 0.01, 0.05, 0.90, 0.85, 0.85, 0.85, 0.85, 0.85], # unknown\n",
    "    ],\n",
    "    evidence=[\"DNS Answer Consistency\", \"TCP VP Result\"],\n",
    "    evidence_card=[2, 5],\n",
    "    state_names={\n",
    "        \"DNS Answer Consistency\": [\"consistent\", \"inconsistent\"],\n",
    "        \"TCP VP Result\": tcp_failure_states + [\"down\"],\n",
    "        \"TCP Outcome\": [\"blocked\", \"ok\", \"down\", \"unknown\"]\n",
    "    },\n",
    ")"
   ]
  },
  {
   "cell_type": "code",
   "execution_count": 16,
   "id": "61234ff3-5e13-48e3-8264-e1966fdd2dc1",
   "metadata": {},
   "outputs": [],
   "source": [
    "tls_ctrl_failure_states = [\n",
    "    \"none\",\n",
    "    \"bad_certificate\",\n",
    "    \"other\"\n",
    "]\n",
    "\n",
    "tls_vp_result_states = [\n",
    "    \"none\",\n",
    "    \"bad_certificate\",\n",
    "    \"connection_reset_after_ch\",\n",
    "    \"timeout_after_ch\",\n",
    "    \"timeout\",\n",
    "    \"connection_reset\",\n",
    "    \"other\",\n",
    "    \"down\"\n",
    "]\n",
    "\n",
    "cpd_tls_ctrl_failure = TabularCPD(\n",
    "    \"TLS Ctrl Failure\",\n",
    "    variable_card=3,\n",
    "    values=[\n",
    "        [0.980],\n",
    "        [0.005],\n",
    "        [0.015],\n",
    "    ],\n",
    "    state_names={\n",
    "        \"TLS Ctrl Failure\": tls_ctrl_failure_states\n",
    "    },\n",
    ")\n",
    "\n",
    "cpd_tls_vp_result = TabularCPD(\n",
    "    \"TLS VP Result\",\n",
    "    variable_card=8,\n",
    "    values=[\n",
    "        # \"none\", \"bad_certificate\", \"other\"\n",
    "        [0.97, 0.02, 0.01], # none\n",
    "        [0.005, 0.10, 0.01], # bad_certificate\n",
    "        [0.005, 0.01, 0.05], # connection_reset_after_ch\n",
    "        [0.005, 0.01, 0.05], # timeout_after_ch\n",
    "        [0.005, 0.01, 0.05], # timeout\n",
    "        [0.005, 0.01, 0.05], # connection_reset\n",
    "        [0.004, 0.02, 0.12], # other\n",
    "        [0.001, 0.82, 0.66], # down\n",
    "    ],\n",
    "    evidence=[\"TLS Ctrl Failure\"],\n",
    "    evidence_card=[3],\n",
    "    state_names={\n",
    "        \"TLS VP Result\": tls_vp_result_states,\n",
    "        \"TLS Ctrl Failure\": tls_ctrl_failure_states\n",
    "    },\n",
    ")\n",
    "\n",
    "cpd_tls_outcome = TabularCPD(\n",
    "    \"TLS Outcome\",\n",
    "    variable_card=4,\n",
    "    values=[\n",
    "        # consistent inconsistent\n",
    "        # \"none\", \"bad_certificate\", \"connection_reset_after_ch\", \"timeout_after_ch\", \"timeout\" \"connection_reset\" \"other\" \"down\"\n",
    "        [0.02, 0.95, 0.90, 0.85, 0.55, 0.65, 0.07, 0.07, 0.02, 0.02, 0.02, 0.02, 0.02, 0.02, 0.02, 0.02], # blocked\n",
    "        [0.95, 0.01, 0.01, 0.01, 0.02, 0.01, 0.01, 0.01, 0.01, 0.01, 0.01, 0.01, 0.01, 0.01, 0.01, 0.01], # ok\n",
    "        [0.02, 0.03, 0.07, 0.09, 0.40, 0.25, 0.07, 0.07, 0.05, 0.05, 0.05, 0.05, 0.05, 0.05, 0.05, 0.05], # down\n",
    "        [0.01, 0.01, 0.02, 0.05, 0.03, 0.09, 0.85, 0.85, 0.92, 0.92, 0.92, 0.92, 0.92, 0.92, 0.92, 0.92], # unknown\n",
    "    ],\n",
    "    evidence=[\"DNS Answer Consistency\", \"TLS VP Result\"],\n",
    "    evidence_card=[2, 8],\n",
    "    state_names={\n",
    "        \"DNS Answer Consistency\": [\"consistent\", \"inconsistent\"],\n",
    "        \"TLS VP Result\": tls_vp_result_states,\n",
    "        \"TLS Outcome\": [\"blocked\", \"ok\", \"down\", \"unknown\"]\n",
    "    },\n",
    ")"
   ]
  },
  {
   "cell_type": "code",
   "execution_count": 17,
   "id": "4a7dff9b-4851-435e-941d-de3e736bc577",
   "metadata": {},
   "outputs": [],
   "source": [
    "cpd_list = [\n",
    "    cpd_dns_ctrl_failure, \n",
    "    cpd_dns_vp_failure, \n",
    "    cpd_dns_failure_consistency, \n",
    "    cpd_dns_answer, \n",
    "    cpd_dns_answer_tls_consistency,\n",
    "    cpd_dns_answer_consistency, \n",
    "    cpd_dns_outcome,\n",
    "    cpd_tcp_ctrl_failure,\n",
    "    cpd_tcp_vp_result,\n",
    "    cpd_tcp_outcome,\n",
    "    cpd_tls_ctrl_failure,\n",
    "    cpd_tls_vp_result,\n",
    "    cpd_tls_outcome\n",
    "]\n",
    "web_analysis_bn_full.add_cpds(*cpd_list)"
   ]
  },
  {
   "cell_type": "code",
   "execution_count": 121,
   "id": "a2299f85-a607-4198-a0eb-5af82f7317e9",
   "metadata": {},
   "outputs": [
    {
     "data": {
      "text/plain": [
       "True"
      ]
     },
     "execution_count": 121,
     "metadata": {},
     "output_type": "execute_result"
    }
   ],
   "source": [
    "web_analysis_bn_full.check_model()"
   ]
  },
  {
   "cell_type": "code",
   "execution_count": 19,
   "id": "73120bce-721a-4965-8a76-a4f37f7be905",
   "metadata": {},
   "outputs": [],
   "source": [
    "web_analysis_bn_full.save('web-analysis-full.bif')"
   ]
  },
  {
   "cell_type": "code",
   "execution_count": null,
   "id": "85d58bf9-eb93-48fb-96ba-927657cfd1ef",
   "metadata": {},
   "outputs": [],
   "source": [
    "from oonipipeline"
   ]
  },
  {
   "cell_type": "code",
   "execution_count": null,
   "id": "6eebd10f-58da-41a8-b2ef-520a1733607c",
   "metadata": {},
   "outputs": [],
   "source": []
  },
  {
   "cell_type": "code",
   "execution_count": 122,
   "id": "21c4346f-4c39-47fc-9378-306b1bb05d58",
   "metadata": {},
   "outputs": [],
   "source": [
    "from pgmpy.inference import VariableElimination"
   ]
  },
  {
   "cell_type": "code",
   "execution_count": 123,
   "id": "89546053-4dbb-47af-a81d-1ad5bf41f95c",
   "metadata": {},
   "outputs": [],
   "source": [
    "infer = VariableElimination(web_analysis_bn_full)"
   ]
  },
  {
   "cell_type": "code",
   "execution_count": 124,
   "id": "cb364bad-0321-4cba-9df6-c6a1cdb9ec05",
   "metadata": {},
   "outputs": [
    {
     "name": "stdout",
     "output_type": "stream",
     "text": [
      "+----------------------+--------------------+\n",
      "| DNS Outcome          |   phi(DNS Outcome) |\n",
      "+======================+====================+\n",
      "| DNS Outcome(blocked) |             0.0874 |\n",
      "+----------------------+--------------------+\n",
      "| DNS Outcome(ok)      |             0.8945 |\n",
      "+----------------------+--------------------+\n",
      "| DNS Outcome(down)    |             0.0181 |\n",
      "+----------------------+--------------------+\n"
     ]
    }
   ],
   "source": [
    "print(infer.query(['DNS Outcome']))"
   ]
  },
  {
   "cell_type": "code",
   "execution_count": null,
   "id": "a5b30d21-a4c8-4170-ba42-c1727f5131cd",
   "metadata": {},
   "outputs": [],
   "source": []
  },
  {
   "cell_type": "code",
   "execution_count": 74,
   "id": "870bd68f-7969-42c8-9c41-4f8710975497",
   "metadata": {},
   "outputs": [
    {
     "name": "stdout",
     "output_type": "stream",
     "text": [
      "+----------------------+--------------------+\n",
      "| DNS Outcome          |   phi(DNS Outcome) |\n",
      "+======================+====================+\n",
      "| DNS Outcome(blocked) |             0.7836 |\n",
      "+----------------------+--------------------+\n",
      "| DNS Outcome(ok)      |             0.2031 |\n",
      "+----------------------+--------------------+\n",
      "| DNS Outcome(down)    |             0.0133 |\n",
      "+----------------------+--------------------+\n"
     ]
    }
   ],
   "source": [
    "print(infer.query(\n",
    "    ['DNS Outcome'], \n",
    "    evidence={\n",
    "        #'DNS TLS Consistency': 'tls_inconsistent',\n",
    "        \"DNS Answer\": \"answer_is_bogon\", \n",
    "    }\n",
    "))"
   ]
  },
  {
   "cell_type": "code",
   "execution_count": 78,
   "id": "8bd01e2f-1baf-4f63-a851-e318f8cb687b",
   "metadata": {},
   "outputs": [
    {
     "name": "stdout",
     "output_type": "stream",
     "text": [
      "+----------------------+--------------------+\n",
      "| DNS Outcome          |   phi(DNS Outcome) |\n",
      "+======================+====================+\n",
      "| DNS Outcome(blocked) |             0.0168 |\n",
      "+----------------------+--------------------+\n",
      "| DNS Outcome(ok)      |             0.9646 |\n",
      "+----------------------+--------------------+\n",
      "| DNS Outcome(down)    |             0.0186 |\n",
      "+----------------------+--------------------+\n"
     ]
    }
   ],
   "source": [
    "print(infer.query(\n",
    "    ['DNS Outcome'], \n",
    "    evidence={\n",
    "        'DNS Answer TLS Consistency': 'tls_consistent',\n",
    "        \"DNS Answer\": \"answer_matches_probe_cc\", \n",
    "    }\n",
    "))"
   ]
  },
  {
   "cell_type": "code",
   "execution_count": 79,
   "id": "02b703c0-429b-4a6f-ae21-2134bbb9a3e4",
   "metadata": {},
   "outputs": [
    {
     "name": "stdout",
     "output_type": "stream",
     "text": [
      "+----------------------+--------------------+\n",
      "| DNS Outcome          |   phi(DNS Outcome) |\n",
      "+======================+====================+\n",
      "| DNS Outcome(blocked) |             0.7913 |\n",
      "+----------------------+--------------------+\n",
      "| DNS Outcome(ok)      |             0.1955 |\n",
      "+----------------------+--------------------+\n",
      "| DNS Outcome(down)    |             0.0133 |\n",
      "+----------------------+--------------------+\n"
     ]
    }
   ],
   "source": [
    "print(infer.query(\n",
    "    ['DNS Outcome'], \n",
    "    evidence={\n",
    "        'DNS Answer TLS Consistency': 'tls_inconsistent',\n",
    "        \"DNS Answer\": \"answer_matches_probe_cc\", \n",
    "    }\n",
    "))"
   ]
  },
  {
   "cell_type": "code",
   "execution_count": 145,
   "id": "ce7f6e84-e728-475c-b075-73404497bd61",
   "metadata": {},
   "outputs": [],
   "source": [
    "CLOUD_PROVIDERS_ASNS = [\n",
    "    13335,  # Cloudflare: https://www.peeringdb.com/net/4224\n",
    "    209242, #\tCloudflare London, LLC\t\n",
    "    20940,  # Akamai: https://www.peeringdb.com/net/2\n",
    "    9002,  # Akamai RETN\n",
    "    16625, # Akamai Technologies, Inc.\t\n",
    "    63949, # Akamai Technologies, Inc.\t\n",
    "    16509, #\tAmazon.com, Inc.\n",
    "    14618, #\tAmazon.com, Inc.\t\n",
    "    15169, #\tGoogle LLC\n",
    "    396982,  # Google Cloud: https://www.peeringdb.com/net/30878\n",
    "    54113, #\tFastly, Inc\n",
    "    8075, # Microsoft Corporation\n",
    "    8068, #\tMicrosoft Corporation\n",
    "]\n",
    "def is_cloud_provider(as_number):\n",
    "    return as_number in CLOUD_PROVIDERS_ASNS\n",
    "    \n",
    "def find_relevant_control(wo, web_ctrl_observations):\n",
    "    for ctrl in web_ctrl_observations:\n",
    "        if wo.ip == ctrl.ip:\n",
    "            return ctrl\n",
    "\n",
    "def observations_to_features(web_obs, web_ctrl_observations):\n",
    "    for wo in web_observations:\n",
    "        ctrl = find_relevant_control(wo, web_control_observations)\n",
    "        yield produce_state(wo, ctrl)\n",
    "\n",
    "def produce_state(wo, ctrl):\n",
    "    state = {\n",
    "        'DNS Ctrl Failure': None,\n",
    "        'DNS VP Failure': None,\n",
    "        'DNS Answer': None,\n",
    "        'DNS Answer TLS Consistency': None,\n",
    "        'TCP Ctrl Failure': None,\n",
    "        'TCP VP Result': None,\n",
    "        'TLS Ctrl Failure': None,\n",
    "        'TLS VP Result': None\n",
    "    }\n",
    "    if wo.dns_failure is not None:\n",
    "        if wo.dns_failure in ('dns_nxdomain_error', 'android_dns_cache_no_data'):\n",
    "            state['DNS VP Failure'] = 'nxdomain'\n",
    "        else:\n",
    "            state['DNS VP Failure'] = 'server_failure'\n",
    "    elif wo.dns_answer is not None:\n",
    "            state['DNS VP Failure'] = 'none'\n",
    "\n",
    "    if ctrl:\n",
    "        if ctrl.dns_failure is not None:\n",
    "            if wo.dns_failure == 'dns_nxdomain_error':\n",
    "                state['DNS Ctrl Failure'] = 'nxdomain'\n",
    "            else:\n",
    "                state['DNS Ctrl Failure'] = 'server_failure'\n",
    "        elif ctrl.dns_success:\n",
    "            state['DNS Ctrl Failure'] = 'none'\n",
    "\n",
    "    if wo.dns_answer is not None:\n",
    "        if wo.ip_is_bogon:\n",
    "            state['DNS Answer'] = 'answer_is_bogon'\n",
    "        elif wo.ip_asn == wo.probe_meta.probe_asn:\n",
    "            state['DNS Answer'] = 'answer_matches_probe_asn'\n",
    "        elif wo.ip_as_cc == wo.probe_meta.probe_cc:\n",
    "            state['DNS Answer'] = 'answer_matches_probe_cc'\n",
    "        elif is_cloud_provider(wo.ip_asn):\n",
    "            state['DNS Answer'] = 'answer_is_cloud_provider'\n",
    "        else:\n",
    "            state['DNS Answer'] = 'answer_other'\n",
    "\n",
    "    if ctrl:\n",
    "        tcp_ctrl_state = None\n",
    "        if ctrl.ip and (ctrl.tcp_failure is not None or ctrl.tcp_success):\n",
    "            if ctrl.tcp_failure is None:\n",
    "                tcp_ctrl_state = 'none'\n",
    "            elif ctrl.tcp_failure == 'connection_reset':\n",
    "                tcp_ctrl_state = 'connection_reset'\n",
    "            elif ctrl.tcp_failure in ('generic_timeout_error', 'timed_out'):\n",
    "                tcp_ctrl_state = 'timeout'\n",
    "            else:\n",
    "                tcp_ctrl_state = 'other'\n",
    "\n",
    "        tls_consistency_state = None\n",
    "        if wo.ip == ctrl.ip and (ctrl.tls_success or ctrl.tls_failure is not None):\n",
    "            if ctrl.tls_failure is None:\n",
    "                tls_consistency_state = 'tls_consistent'\n",
    "            elif ctrl.tls_failure.startswith(\"ssl_\"):\n",
    "                tls_consistency_state = 'tls_inconsistent'\n",
    "            else:\n",
    "                tls_consistency_state = 'unknown'\n",
    "        else:\n",
    "            tls_consistency_state = 'unknown'\n",
    "\n",
    "        if (tcp_ctrl_state and tcp_ctrl_state != 'none'):\n",
    "            tls_consistency_state = 'tls_inconsistent'\n",
    "        state['DNS Answer TLS Consistency'] = tls_consistency_state\n",
    "        state['TCP Ctrl Failure'] = tcp_ctrl_state\n",
    "    \n",
    "    if wo.ip and (wo.tcp_failure is not None or wo.tcp_success):\n",
    "        tcp_vp_result = None\n",
    "        if wo.tcp_failure is None:\n",
    "            tcp_vp_result = 'none'\n",
    "        elif wo.tcp_failure == 'connection_reset':\n",
    "            tcp_vp_result = 'connection_reset'\n",
    "        elif wo.tcp_failure in ('generic_timeout_error', 'timed_out'):\n",
    "            tcp_vp_result = 'timeout'\n",
    "        else:\n",
    "            tcp_vp_result = 'other'\n",
    "        if tcp_vp_result != 'none' and tcp_vp_result == state['TCP Ctrl Failure']:\n",
    "            tcp_vp_result = 'down'\n",
    "        state['TCP VP Result'] = tcp_vp_result\n",
    "\n",
    "    if ctrl:\n",
    "        if ctrl.ip and (ctrl.tls_failure is not None or ctrl.tls_success):\n",
    "            if ctrl.tls_failure is None:\n",
    "                state['TLS Ctrl Failure'] = 'none'\n",
    "            elif ctrl.tls_failure.startswith('ssl_'):\n",
    "                state['TLS Ctrl Failure'] = 'bad_certificate'\n",
    "            else:\n",
    "                state['TLS Ctrl Failure'] = 'other'\n",
    "    \n",
    "    if wo.ip and (wo.tls_failure is not None or wo.tls_failure):\n",
    "        tls_vp_result = None\n",
    "        if wo.tls_failure is None:\n",
    "            tls_vp_result = 'none'\n",
    "        elif wo.tls_failure.startswith('ssl_'):\n",
    "            tls_vp_result = 'bad_certificate'\n",
    "        elif wo.tls_failure == 'connection_reset':\n",
    "            tls_vp_result = 'connection_reset'\n",
    "            if wo.tls_handshake_last_operation and wo.tls_handshake_last_operation == 'write_1':\n",
    "                tls_vp_result = 'connection_reset_after_ch'\n",
    "        elif wo.tcp_failure in ('generic_timeout_error', 'timed_out'):\n",
    "            tls_vp_result = 'timeout'\n",
    "            if wo.tls_handshake_last_operation and wo.tls_handshake_last_operation == 'write_1':\n",
    "                tls_vp_result = 'timeout_after_ch'\n",
    "        else:\n",
    "            tls_vp_result = 'other'\n",
    "        if tls_vp_result != 'none' and state['TLS Ctrl Failure'] != 'none':\n",
    "            tls_vp_result = 'down'\n",
    "        state['TLS VP Result'] = tls_vp_result\n",
    "    return state"
   ]
  },
  {
   "cell_type": "code",
   "execution_count": 146,
   "id": "0a4480e9-3c4c-43b7-bb8a-6fb34df5348c",
   "metadata": {},
   "outputs": [],
   "source": [
    "netinfodb = NetinfoDB(datadir=Path(\"datadir\"), download=False)\n",
    "# 20231129041111.939896_NP_webconnectivity_32105af63774eabf\n",
    "#raw_msmt = get_measurement_dict_by_uid(\"20240804233508.181041_TR_webconnectivity_9a7272e520f3d836\")\n",
    "raw_msmt = get_measurement_dict_by_uid(\"20231129041111.939896_NP_webconnectivity_32105af63774eabf\")\n",
    "msmt = load_measurement(msmt=raw_msmt)\n",
    "web_observations, web_control_observations = measurement_to_observations(\n",
    "    msmt, netinfodb=netinfodb\n",
    ")"
   ]
  },
  {
   "cell_type": "code",
   "execution_count": 147,
   "id": "6ce969b6-548e-4602-963e-9baeff98c8d9",
   "metadata": {},
   "outputs": [
    {
     "name": "stdout",
     "output_type": "stream",
     "text": [
      "{'DNS Ctrl Failure': None, 'DNS VP Failure': 'none', 'DNS Answer': 'answer_is_cloud_provider', 'DNS Answer TLS Consistency': 'tls_inconsistent', 'TCP Ctrl Failure': 'other', 'TCP VP Result': 'down', 'TLS Ctrl Failure': None, 'TLS VP Result': None}\n",
      "+----------------------+--------------------+\n",
      "| TLS Outcome          |   phi(TLS Outcome) |\n",
      "+======================+====================+\n",
      "| TLS Outcome(blocked) |             0.0202 |\n",
      "+----------------------+--------------------+\n",
      "| TLS Outcome(ok)      |             0.0189 |\n",
      "+----------------------+--------------------+\n",
      "| TLS Outcome(down)    |             0.0498 |\n",
      "+----------------------+--------------------+\n",
      "| TLS Outcome(unknown) |             0.9111 |\n",
      "+----------------------+--------------------+\n",
      "+----------------------+--------------------+\n",
      "| DNS Outcome          |   phi(DNS Outcome) |\n",
      "+======================+====================+\n",
      "| DNS Outcome(blocked) |             0.7872 |\n",
      "+----------------------+--------------------+\n",
      "| DNS Outcome(ok)      |             0.2044 |\n",
      "+----------------------+--------------------+\n",
      "| DNS Outcome(down)    |             0.0084 |\n",
      "+----------------------+--------------------+\n",
      "{'DNS Ctrl Failure': None, 'DNS VP Failure': None, 'DNS Answer': None, 'DNS Answer TLS Consistency': None, 'TCP Ctrl Failure': None, 'TCP VP Result': None, 'TLS Ctrl Failure': None, 'TLS VP Result': None}\n",
      "+----------------------+--------------------+\n",
      "| TLS Outcome          |   phi(TLS Outcome) |\n",
      "+======================+====================+\n",
      "| TLS Outcome(blocked) |             0.0405 |\n",
      "+----------------------+--------------------+\n",
      "| TLS Outcome(ok)      |             0.8216 |\n",
      "+----------------------+--------------------+\n",
      "| TLS Outcome(down)    |             0.0275 |\n",
      "+----------------------+--------------------+\n",
      "| TLS Outcome(unknown) |             0.1103 |\n",
      "+----------------------+--------------------+\n",
      "+----------------------+--------------------+\n",
      "| DNS Outcome          |   phi(DNS Outcome) |\n",
      "+======================+====================+\n",
      "| DNS Outcome(blocked) |             0.0874 |\n",
      "+----------------------+--------------------+\n",
      "| DNS Outcome(ok)      |             0.8945 |\n",
      "+----------------------+--------------------+\n",
      "| DNS Outcome(down)    |             0.0181 |\n",
      "+----------------------+--------------------+\n"
     ]
    }
   ],
   "source": [
    "for features in observations_to_features(web_observations, web_control_observations):\n",
    "    evidence = {k: v for k,v in features.items() if v is not None}\n",
    "    print(features)\n",
    "    print(infer.query(\n",
    "        ['TLS Outcome'],\n",
    "        evidence=evidence\n",
    "    ))\n",
    "    print(infer.query(\n",
    "        ['DNS Outcome'],\n",
    "        evidence=evidence\n",
    "    ))"
   ]
  },
  {
   "cell_type": "code",
   "execution_count": null,
   "id": "886eb036-3fa0-4084-9a7c-6c048f0634ee",
   "metadata": {},
   "outputs": [],
   "source": []
  }
 ],
 "metadata": {
  "kernelspec": {
   "display_name": "Python 3 (ipykernel)",
   "language": "python",
   "name": "python3"
  },
  "language_info": {
   "codemirror_mode": {
    "name": "ipython",
    "version": 3
   },
   "file_extension": ".py",
   "mimetype": "text/x-python",
   "name": "python",
   "nbconvert_exporter": "python",
   "pygments_lexer": "ipython3",
   "version": "3.11.7"
  }
 },
 "nbformat": 4,
 "nbformat_minor": 5
}
